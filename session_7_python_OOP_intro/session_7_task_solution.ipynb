{
  "nbformat": 4,
  "nbformat_minor": 0,
  "metadata": {
    "colab": {
      "provenance": []
    },
    "kernelspec": {
      "name": "python3",
      "display_name": "Python 3"
    },
    "language_info": {
      "name": "python"
    }
  },
  "cells": [
    {
      "cell_type": "markdown",
      "source": [
        "##`Q-1:` Rectangle Class\n",
        "1. Write a Rectangle class in Python language, allowing you to build a rectangle with length and width attributes.\n",
        "\n",
        "2. Create a Perimeter() method to calculate the perimeter of the rectangle and a Area() method to calculate the area of ​​the rectangle.\n",
        "\n",
        "3. Create a method display() that display the length, width, perimeter and area of an object created using an instantiation on rectangle class."
      ],
      "metadata": {
        "id": "FyUJ3PRAsPr4"
      }
    },
    {
      "cell_type": "markdown",
      "source": [
        "Eg.\n",
        "After making above classes and methods, on executing below code:-\n",
        "```\n",
        "my_rectangle = Rectangle(3 , 4)\n",
        "my_rectangle.display()\n",
        "```\n",
        "\n",
        "`Output:`\n",
        "```\n",
        "The length of rectangle is:  3\n",
        "The width of rectangle is:  4\n",
        "The perimeter of rectangle is:  14\n",
        "The area of rectangle is:  12\n",
        "```\n"
      ],
      "metadata": {
        "id": "GxUtOqJfssFK"
      }
    },
    {
      "cell_type": "code",
      "source": [
        "# write your code here\n",
        "class Rectangle:\n",
        "\n",
        "  def __init__(self,length,width):\n",
        "    self.length = length\n",
        "    self.width = width\n",
        "\n",
        "  def perimeter(self):\n",
        "    return 2 * (self.length + self.width)\n",
        "\n",
        "  def area(self):\n",
        "    return self.length * self.width\n",
        "\n",
        "  def display(self):\n",
        "    print('The length of rectangle is:',self.length)\n",
        "    print('The width of rectangle is:',self.width)\n",
        "    print('The perimeter of rectangle is:',self.perimeter())\n",
        "    print('The area of rectangle is:',self.area())\n",
        "\n",
        "\n",
        "my_rectangle = Rectangle(3 , 4)\n",
        "my_rectangle.display()"
      ],
      "metadata": {
        "id": "92_QT-Uj6NBg",
        "colab": {
          "base_uri": "https://localhost:8080/"
        },
        "outputId": "eb828f74-5814-4796-a2d1-cd3641d7c4ee"
      },
      "execution_count": null,
      "outputs": [
        {
          "output_type": "stream",
          "name": "stdout",
          "text": [
            "The length of rectangle is: 3\n",
            "The width of rectangle is: 4\n",
            "The perimeter of rectangle is: 14\n",
            "The area of rectangle is: 12\n"
          ]
        }
      ]
    },
    {
      "cell_type": "markdown",
      "source": [
        "##`Q-2: Bank Class`\n",
        "\n",
        "1. Create a Python class called `BankAccount` which represents a bank account, having as attributes: `accountNumber` (numeric type), `name` (name of the account owner as string type), `balance`.\n",
        "2. Create a constructor with parameters: `accountNumber, name, balance`.\n",
        "3. Create a `Deposit()` method which manages the deposit actions.\n",
        "4. Create a `Withdrawal()` method  which manages withdrawals actions.\n",
        "5. Create an `bankFees()` method to apply the bank fees with a percentage of 5% of the balance account.\n",
        "6. Create a `display()` method to display account details.\n",
        "Give the complete code for the  BankAccount class."
      ],
      "metadata": {
        "id": "r_GxrS0Vrdom"
      }
    },
    {
      "cell_type": "markdown",
      "source": [
        "Eg.\n",
        "After making above classes and methods, on executing below code:-\n",
        "```\n",
        "newAccount = BankAccount(2178514584, \"Mandy\" , 2800)\n",
        "\n",
        "newAccount.Withdrawal(700)\n",
        "\n",
        "newAccount.Deposit(1000)\n",
        "\n",
        "newAccount.display()\n",
        "```\n",
        "\n",
        "`Output:`\n",
        "```\n",
        "Account Number :  2178514584\n",
        "Account Name :  Mandy\n",
        "Account Balance :  3100 ₹\n",
        "```"
      ],
      "metadata": {
        "id": "qvVkOUJgvTV_"
      }
    },
    {
      "cell_type": "code",
      "source": [
        "# write your code here\n",
        "class BankAccount:\n",
        "\n",
        "  def __init__(self,accountNumber,name,balance):\n",
        "    self.accountNumber = int(accountNumber)\n",
        "    self.name = name\n",
        "    self.balance = balance\n",
        "\n",
        "\n",
        "  def deposit(self,amount):\n",
        "    self.balance += amount\n",
        "\n",
        "  def withdrawal(self,amount):\n",
        "    if self.balance > amount:\n",
        "        self.balance = self.balance - amount\n",
        "        reduction = self.bankFee()\n",
        "        self.balance = self.balance - reduction\n",
        "    else:\n",
        "        print('Insufficient funds')\n",
        "\n",
        "  def bankFee(self):\n",
        "    return 0.05 * self.balance\n",
        "\n",
        "  def display(self):\n",
        "    print('Account Number:',self.accountNumber)\n",
        "    print('Account Name:',self.name)\n",
        "    print('Account Balance:',self.balance)\n",
        "\n"
      ],
      "metadata": {
        "id": "fUQOmQyA6YDR"
      },
      "execution_count": 5,
      "outputs": []
    },
    {
      "cell_type": "code",
      "source": [
        "newAccount = BankAccount(2178514584, \"Mandy\" , 500)\n",
        "newAccount.deposit(500)\n",
        "newAccount.withdrawal(100)\n",
        "newAccount.display()"
      ],
      "metadata": {
        "colab": {
          "base_uri": "https://localhost:8080/"
        },
        "id": "I1DLq4BGeEpA",
        "outputId": "ba91be8e-25a4-456f-a0c7-5888f807e29c"
      },
      "execution_count": 6,
      "outputs": [
        {
          "output_type": "stream",
          "name": "stdout",
          "text": [
            "Account Number: 2178514584\n",
            "Account Name: Mandy\n",
            "Account Balance: 855.0\n"
          ]
        }
      ]
    },
    {
      "cell_type": "markdown",
      "source": [
        "##`Q-3:Computation class`\n",
        "\n",
        "1. Create a `Computation` class with a default constructor (without parameters) allowing to perform various calculations on integers numbers.\n",
        "2. Create a method called `Factorial()` which allows to calculate the factorial of an integer n. Integer n as parameter for this method\n",
        "\n",
        "3. Create a method called `naturalSum()` allowing to calculate the sum of the first n integers 1 + 2 + 3 + .. + n. Integer n as parameter for this method.\n",
        "\n",
        "4. Create a method called `testPrime()` in  the Calculation class to test the primality of a given integer n, n is Prime or Not? Integer n as parameter for this method.\n",
        "\n",
        "5. Create  a method called `testPrims()` allowing to test if two numbers are prime between them. Two integers are prime to one another if they have only `1` as their common divisor. Eg. 4 and 9 are prime to each other.\n",
        "\n",
        "5. Create a `tableMult()` method which creates and displays the multiplication table of a given integer. Then create an `allTablesMult()` method to display all the integer multiplication tables 1, 2, 3, ..., 9.\n",
        "\n",
        "6. Create a static `listDiv()` method that gets all the divisors of a given integer on new list called  Ldiv. Create another `listDivPrim()` method that gets all the prime divisors of a given integer."
      ],
      "metadata": {
        "id": "QovcQAZTrgGU"
      }
    },
    {
      "cell_type": "code",
      "source": [
        "# write your code here\n",
        "class Computation:\n",
        "\n",
        "  def __init__(self):\n",
        "    pass\n",
        "\n",
        " # --- Factorial ------------\n",
        "  def Factorial(self,n):\n",
        "    fact = 1\n",
        "\n",
        "    for i in range(1,n+1):\n",
        "      fact = fact * i\n",
        "\n",
        "    return fact\n",
        "\n",
        "# --- Sum of the first n numbers ----\n",
        "  def naturalSum(self,n):\n",
        "    nsum = 0\n",
        "\n",
        "    for i in range(1,n+1):\n",
        "      nsum = nsum + i\n",
        "\n",
        "    return nsum\n",
        "\n",
        "# --- Primality test of a number ------------\n",
        "  def testPrime(self, n):\n",
        "        j = 0\n",
        "        for i in range (1, n + 1):\n",
        "            if (n% i == 0):\n",
        "                j = j + 1\n",
        "        if (j == 2):\n",
        "            return True\n",
        "        else:\n",
        "            return False\n",
        "\n",
        "# --- Primality test of two integers ------------\n",
        "  def testPrims(self,n1,n2):\n",
        "    flag = True\n",
        "    for i in range(2,n1):\n",
        "      if n1%i == 0:\n",
        "        if n2%i == 0:\n",
        "          flag = False\n",
        "          break\n",
        "      else:\n",
        "        continue\n",
        "\n",
        "    if flag:\n",
        "      print('{} and {} are prime to each other'.format(n1,n2))\n",
        "    else:\n",
        "      print('{} and {} are not prime to each other'.format(n1,n2))\n",
        "\n",
        "    # Second Method\n",
        "    def testPrims(self, n, m):\n",
        "\n",
        "        # initialize the number of commons divisors\n",
        "        commonDiv = 0\n",
        "        for i in range (1, n + 1):\n",
        "            if (n% i == 0 and m% i == 0):\n",
        "                commonDiv = commonDiv + 1\n",
        "        if commonDiv == 1:\n",
        "            print (\"The numbers\", n, \"and\", m, \"are co-primes\")\n",
        "        else:\n",
        "            print (\"The numbers\", n, \"and\", m, \"are not co-primes\")\n",
        "\n",
        "\n",
        "#---Multiplication table-------------\n",
        "  def tableMul(self,n):\n",
        "    for i in range(1,11):\n",
        "      print('{} * {} = {}'.format(n,i,n*i))\n",
        "\n",
        "  # Print Multiplication Table from 2 to 10\n",
        "  def alltableMul(self):\n",
        "    for i in range(2,11):\n",
        "      for j in range(1,11):\n",
        "        print('{} * {} = {}'.format(i,j,i*j))\n",
        "      print()\n",
        "\n",
        "  # List of all Divisibles of given number\n",
        "  def listDiv(self,n):\n",
        "    l = []\n",
        "    for i in range(1,n+1):\n",
        "      if n%i == 0:\n",
        "        l.append(i)\n",
        "\n",
        "    return l\n",
        "\n",
        "  # Return a list of all prime number from above list\n",
        "  def listPrimeDivisor(self, n):\n",
        "          # initialization of the list of divisors\n",
        "          lDiv = []\n",
        "          for i in range (1, n + 1):\n",
        "              if (n% i == 0 and self.testPrime(i)):\n",
        "                  lDiv.append(i)\n",
        "          return lDiv\n",
        "\n"
      ],
      "metadata": {
        "id": "YEkPH70l6Z-o"
      },
      "execution_count": 10,
      "outputs": []
    },
    {
      "cell_type": "code",
      "source": [
        "comput = Computation()\n",
        "# comput.Factorial(5)\n",
        "# comput.naturalSum(10)\n",
        "# comput.testPrime(27)\n",
        "# comput.testPrims(4,9)\n",
        "# comput.alltableMul()\n",
        "# comput.listDiv(20)\n",
        "comput.listPrimeDivisor(20)"
      ],
      "metadata": {
        "colab": {
          "base_uri": "https://localhost:8080/"
        },
        "id": "t56EU5v2gNsC",
        "outputId": "41b8b196-1a2a-4ec3-bdaa-616b37172f62"
      },
      "execution_count": 11,
      "outputs": [
        {
          "output_type": "execute_result",
          "data": {
            "text/plain": [
              "[2, 5]"
            ]
          },
          "metadata": {},
          "execution_count": 11
        }
      ]
    },
    {
      "cell_type": "markdown",
      "source": [
        "##`Q-4`: Build flashcard using class in Python.\n",
        "\n",
        "Build a flashcard using class in python. A flashcard is a card having information on both sides, which can be used as an aid in memoization. Flashcards usually have a question on one side and an answer on the other.\n",
        "\n",
        "**Example 1:**\n",
        "\n",
        "Approach:\n",
        "\n",
        "- Create a class named FlashCard.\n",
        "- Initialize dictionary fruits using __init__() method. Here you have to define fruit name as key and it's color as value. E.g., {\"Banana\": \"yellow\", \"Strawberries\": \"pink\"}\n",
        "- Now randomly choose a pair from fruits by using _random_ module and store the key in variable _fruit_ and _value_ in variable color.\n",
        "- Now prompt the user to answer the color of the randomly chosen fruit.\n",
        "- If correct print correct else print wrong.\n",
        "\n",
        "Output:\n",
        "```bash\n",
        "welcome to fruit quiz\n",
        "What is the color of Strawberries\n",
        "pink\n",
        "Correct answer\n",
        "Enter 0, if you want to play again: 0\n",
        "What is the color of watermelon\n",
        "green\n",
        "Correct answer\n",
        "Enter 0, if you want to play again: 1\n",
        "```"
      ],
      "metadata": {
        "id": "0yn23_oEriXa"
      }
    },
    {
      "cell_type": "code",
      "source": [
        "# write your code here\n",
        "import random\n",
        "\n",
        "class FlashCard:\n",
        "\n",
        "  def __init__(self,d):\n",
        "    self.my_dict = d\n",
        "    self.playgame()\n",
        "\n",
        "  print('Welcome to fruit quiz')\n",
        "\n",
        "  def playgame(self):\n",
        "\n",
        "    fruit,color = random.choice(list(d.items()))\n",
        "    answer = input('What is the color of {}: '.format(fruit))\n",
        "\n",
        "    if answer.lower() == color:\n",
        "      print('Correct Answer')\n",
        "    else:\n",
        "      print('Wrong Answer')\n",
        "\n",
        "\n",
        "    again = input('Enter 0, if you want to play again: ')\n",
        "\n",
        "    if again == '0':\n",
        "      self.playgame()\n",
        "    else:\n",
        "      exit()\n",
        "\n",
        "\n",
        "\n",
        "d = {\"Banana\": \"yellow\", \"Strawberries\": \"pink\",'peach':'red','watermelon':'green'}\n",
        "fcard = FlashCard(d)"
      ],
      "metadata": {
        "id": "vCrUF6VU6l6w",
        "colab": {
          "base_uri": "https://localhost:8080/"
        },
        "outputId": "6729c580-32e6-4fc6-f346-40ba6e10bec6"
      },
      "execution_count": 26,
      "outputs": [
        {
          "name": "stdout",
          "output_type": "stream",
          "text": [
            "Welcome to fruit quiz\n",
            "What is the color of watermelon: green\n",
            "Correct Answer\n",
            "Enter 0, if you want to play again: 1\n"
          ]
        }
      ]
    },
    {
      "cell_type": "markdown",
      "source": [
        "## `Q-5:` Problem 5 based on OOP Python.\n",
        "\n",
        "TechWorld, a technology training center, wants to allocate courses for instructors. An instructor is identified by name, technology skills, experience and average feedback. An instructor is allocated a course, if he/she satisfies the below two conditions:\n",
        "- eligibility criteria:\n",
        "    - if experience is more than 3 years, average feedback should be 4.5 or more\n",
        "    - if experience is 3 years or less, average feedback should be 4 or more\n",
        "- he/she should posses the technology skill for the course\n",
        "\n",
        "Identify the class name and attributes to represent instructors. Write a Python program to implement the class chosen with its attributes and methods.\n",
        "\n",
        "**Note:**\n",
        "- Consider all instance variables to be private and methods to be public.\n",
        "- An instructor may have multiple technology skills, so consider instance variable, technology_skill to be a list.\n",
        "- *check_eligibility()*: Return true if eligibility criteria is satisfied by the instructor. Else, return false\n",
        "- *allocate_course(technology)*: Return true if the course which requires the given technology can be allocated to the instructor. Else, return false.\n",
        "\n",
        "Represent a few objects of the class, initialize instance variables using setter methods, invoke\n",
        "appropriate methods and test your program."
      ],
      "metadata": {
        "id": "GN2r0jbRewYr"
      }
    },
    {
      "cell_type": "code",
      "source": [
        "# write your code here\n",
        "class Instructor:\n",
        "\n",
        "    def __init__(self,name,technology,experience,feedback):\n",
        "        self.__name = name\n",
        "        self.__technology = technology\n",
        "        self.__experience = experience\n",
        "        self.__feedback = feedback\n",
        "\n",
        "    def check_eligibility(self):\n",
        "\n",
        "        if self.__experience > 3 and self.__feedback >= 4.5:\n",
        "            return True\n",
        "        elif self.__experience <= 3 and self.__feedback >= 4:\n",
        "            return True\n",
        "        else:\n",
        "            return False\n",
        "\n",
        "    def allocate_course(self,tech):\n",
        "        is_eligible = self.check_eligibility()\n",
        "\n",
        "        if is_eligible:\n",
        "            if tech in self.__technology:\n",
        "                return 'Can Teach'\n",
        "            else:\n",
        "                return 'He Do not know this subject'\n",
        "        else:\n",
        "            return 'He does not teach well.'\n",
        "\n",
        "ins = Instructor('Nitish',['Data Science','Web Development'],5,4.9)\n",
        "ins.allocate_course('Android Dev')"
      ],
      "metadata": {
        "id": "pdMFuVFnlvKL",
        "colab": {
          "base_uri": "https://localhost:8080/",
          "height": 36
        },
        "outputId": "806d4437-c922-4cdf-8b3e-167b944f3472"
      },
      "execution_count": 25,
      "outputs": [
        {
          "output_type": "execute_result",
          "data": {
            "text/plain": [
              "'He Do not know this subject'"
            ],
            "application/vnd.google.colaboratory.intrinsic+json": {
              "type": "string"
            }
          },
          "metadata": {},
          "execution_count": 25
        }
      ]
    }
  ]
}