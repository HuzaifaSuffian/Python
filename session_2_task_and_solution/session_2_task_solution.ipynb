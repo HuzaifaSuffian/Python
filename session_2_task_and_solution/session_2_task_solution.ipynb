{
  "nbformat": 4,
  "nbformat_minor": 0,
  "metadata": {
    "colab": {
      "provenance": []
    },
    "kernelspec": {
      "name": "python3",
      "display_name": "Python 3"
    },
    "language_info": {
      "name": "python"
    }
  },
  "cells": [
    {
      "cell_type": "markdown",
      "source": [
        "### `Problem 1`: Write a program that will give you in hand monthly salary after deduction on CTC - HRA(10%), DA(5%), PF(3%) and taxes deduction as below:\n",
        "\n",
        "> Salary(Lakhs) : Tax(%)\n",
        "\n",
        "*   Below 5 : 0%\n",
        "*   5-10 : 10%\n",
        "*   10-20 : 20%\n",
        "*   aboove 20 : 30%"
      ],
      "metadata": {
        "id": "w6RlOAXV2PWh"
      }
    },
    {
      "cell_type": "code",
      "source": [
        "# Write code here\n",
        "ctc = int(input('Enter your annual salary: '))\n",
        "\n",
        "if ctc < 500000:\n",
        "  salary = ctc * .82\n",
        "elif ctc < 1000000:\n",
        "  salary = ctc * .72\n",
        "elif ctc < 2000000:\n",
        "  salary = ctc * 62\n",
        "else:\n",
        "  salary = ctc * 52\n",
        "\n",
        "monthly_salary = round(salary/12,2)\n",
        "\n",
        "print('Inhand salary: ',monthly_salary)\n"
      ],
      "metadata": {
        "id": "7tMHvKYO2etI",
        "colab": {
          "base_uri": "https://localhost:8080/"
        },
        "outputId": "c2c29de7-e2c0-430c-b763-e5bf89b040ad"
      },
      "execution_count": 10,
      "outputs": [
        {
          "output_type": "stream",
          "name": "stdout",
          "text": [
            "Enter your annual salary: 600000\n",
            "Inhand salary:  36000.0\n"
          ]
        }
      ]
    },
    {
      "cell_type": "markdown",
      "source": [
        "### `Problem 2`: Write a program that take a user input of three angles and will find out whether it can form a triangle or not."
      ],
      "metadata": {
        "id": "tYzCGqwl2hfN"
      }
    },
    {
      "cell_type": "code",
      "source": [
        "# Write code here\n",
        "ang1 = int(input('Enter first angle: '))\n",
        "ang2 = int(input('Enter second angle: '))\n",
        "ang3 = int(input('Enter third angle: '))\n",
        "\n",
        "sum_of_angles = ang1 + ang2 + ang3\n",
        "if sum_of_angles > 0 and sum_of_angles <= 180:\n",
        "  if sum_of_angles == 180:\n",
        "    print('Triangle')\n",
        "  else:\n",
        "    print('Not a Triangle')\n",
        "else:\n",
        "  print('Incorrect angles')"
      ],
      "metadata": {
        "id": "FYEqln-I2kxV",
        "colab": {
          "base_uri": "https://localhost:8080/"
        },
        "outputId": "e600d2ae-d0bb-4df6-e3de-d6926bffbe83"
      },
      "execution_count": null,
      "outputs": [
        {
          "output_type": "stream",
          "name": "stdout",
          "text": [
            "Enter first angle: 30\n",
            "Enter second angle: 70\n",
            "Enter third angle: 80\n",
            "Triangle\n"
          ]
        }
      ]
    },
    {
      "cell_type": "markdown",
      "source": [
        "### `Problem 3`: Write a program that will take user input of cost price and selling price and determines whether its a loss or a profit."
      ],
      "metadata": {
        "id": "5vEpPh8C2pE4"
      }
    },
    {
      "cell_type": "code",
      "source": [
        "# Write code here\n",
        "cost_price = int(input('Enter cost price: '))\n",
        "sell_price = int(input('Enter sell price: '))\n",
        "\n",
        "if cost_price < sell_price:\n",
        "  print('Profit')\n",
        "else:\n",
        "  print('Loss')"
      ],
      "metadata": {
        "id": "jDwBXlkO2sfl",
        "colab": {
          "base_uri": "https://localhost:8080/"
        },
        "outputId": "8d14a905-6465-41ea-803a-b73acd4544e7"
      },
      "execution_count": null,
      "outputs": [
        {
          "output_type": "stream",
          "name": "stdout",
          "text": [
            "Enter cost price: 30\n",
            "Enter sell price: 80\n",
            "Profit\n"
          ]
        }
      ]
    },
    {
      "cell_type": "markdown",
      "source": [
        "### `Problem 4`: Write a menu-driven program -\n",
        "1. cm to ft\n",
        "2. km to miles\n",
        "3. USD to INR\n",
        "4. exit"
      ],
      "metadata": {
        "id": "J_FG_cJW2ugT"
      }
    },
    {
      "cell_type": "code",
      "source": [
        "# Write code here\n",
        "user = input(\n",
        "    \"\"\"\n",
        "    Enter 1 to convert cm to ft\n",
        "    Enter 2 to convert km to miles\n",
        "    Enter 3 to convert USD to INR\n",
        "    Enter 4 to exit\n",
        "    \"\"\"\n",
        ")\n",
        "\n",
        "if user == '1':\n",
        "  cm = float(input('Enter the cm: '))\n",
        "  print('cm to ft:',cm/30.48)\n",
        "\n",
        "elif user == '2':\n",
        "  km = float(input('Enter the km: '))\n",
        "  print('km to miles:',km/1.609344)\n",
        "\n",
        "elif user == '3':\n",
        "  usd = int(input('Enter USD amount: '))\n",
        "  print('usd to inr:',usd * 87)\n",
        "\n",
        "else:\n",
        "  print('Exit')\n"
      ],
      "metadata": {
        "id": "yBHhaCGQ2zpD",
        "colab": {
          "base_uri": "https://localhost:8080/"
        },
        "outputId": "49dcb8fc-37c9-4644-f200-eab24a8f1cad"
      },
      "execution_count": null,
      "outputs": [
        {
          "output_type": "stream",
          "name": "stdout",
          "text": [
            "\n",
            "    Enter 1 to convert cm to ft\n",
            "    Enter 2 to convert km to miles\n",
            "    Enter 3 to convert USD to INR\n",
            "    Enter 4 to exit\n",
            "    3\n",
            "Enter USD amount: 100\n",
            "usd to inr: 8700\n"
          ]
        }
      ]
    },
    {
      "cell_type": "markdown",
      "source": [
        "### `Problem 5` - Exercise 12: Display Fibonacci series up to 10 terms.\n",
        "\n",
        "*Note: The Fibonacci Sequence is a series of numbers. The next number is found by adding up the two numbers before it. The first two numbers are 0 and 1. For example, 0, 1, 1, 2, 3, 5, 8, 13, 21. The next number in this series above is 13+21 = 34*"
      ],
      "metadata": {
        "id": "LJJ30_Yw27ZU"
      }
    },
    {
      "cell_type": "code",
      "source": [
        "# Write code here\n",
        "num1 = 0\n",
        "num2 = 1\n",
        "\n",
        "for i in range(1,11):\n",
        "  print(num1)\n",
        "\n",
        "  next = num1 + num2\n",
        "  num1 = num2\n",
        "  num2 = next\n",
        "\n"
      ],
      "metadata": {
        "id": "ae_1rpe52-5R",
        "colab": {
          "base_uri": "https://localhost:8080/"
        },
        "outputId": "7e53b11d-df46-4426-b07f-851884c03854"
      },
      "execution_count": 4,
      "outputs": [
        {
          "output_type": "stream",
          "name": "stdout",
          "text": [
            "0\n",
            "1\n",
            "1\n",
            "2\n",
            "3\n",
            "5\n",
            "8\n",
            "13\n",
            "21\n",
            "34\n"
          ]
        }
      ]
    },
    {
      "cell_type": "markdown",
      "source": [
        "### `Problem 6` - Find the factorial of a given number.\n",
        "\n",
        "Write a program to use the loop to find the factorial of a given number.\n",
        "\n",
        "The factorial (symbol: `!`) means to multiply all whole numbers from the chosen number down to 1.\n",
        "\n",
        "For example: calculate the factorial of 5\n",
        "\n",
        "```bash\n",
        "5! = 5 × 4 × 3 × 2 × 1 = 120\n",
        "```\n",
        "\n",
        "Output:\n",
        "\n",
        "```bash\n",
        "120\n",
        "```"
      ],
      "metadata": {
        "id": "pk_I_S4m3PT5"
      }
    },
    {
      "cell_type": "code",
      "source": [
        "# Write code here\n",
        "num = int(input('Enter the number'))\n",
        "fact = 1\n",
        "\n",
        "for i in range(1,num+1):\n",
        "  fact *= i\n",
        "\n",
        "print(fact)"
      ],
      "metadata": {
        "id": "lzXxHegx3Rkc",
        "colab": {
          "base_uri": "https://localhost:8080/"
        },
        "outputId": "2b762f07-7662-4952-e7f1-4878fd095f52"
      },
      "execution_count": null,
      "outputs": [
        {
          "output_type": "stream",
          "name": "stdout",
          "text": [
            "Enter the number10\n",
            "3628800\n"
          ]
        }
      ]
    },
    {
      "cell_type": "markdown",
      "source": [
        "### `Problem 7` - Reverse a given integer number.\n",
        "\n",
        "Example:\n",
        "\n",
        "`Input:`\n",
        "\n",
        "```bash\n",
        "76542\n",
        "```\n",
        "\n",
        "`Output:`\n",
        "\n",
        "```bash\n",
        "24567\n",
        "```"
      ],
      "metadata": {
        "id": "-17IOi-g3UpU"
      }
    },
    {
      "cell_type": "code",
      "source": [
        "# Write code here\n",
        "num = 76542\n",
        "print(num)\n",
        "\n",
        "temp = 0\n",
        "reversed = 0\n",
        "\n",
        "while True:\n",
        "  if num != 0:\n",
        "    temp = num % 10\n",
        "    reversed = reversed * 10 + temp\n",
        "    num = num // 10\n",
        "  else:\n",
        "    break\n",
        "\n",
        "print(reversed)"
      ],
      "metadata": {
        "id": "wJwLpKCr3aVA",
        "colab": {
          "base_uri": "https://localhost:8080/"
        },
        "outputId": "efda03ad-7a35-4de8-b19f-c40caf51856d"
      },
      "execution_count": null,
      "outputs": [
        {
          "output_type": "stream",
          "name": "stdout",
          "text": [
            "76542\n",
            "24567\n"
          ]
        }
      ]
    },
    {
      "cell_type": "markdown",
      "source": [
        "### `Problem 8`: Take a user input as integer N. Find out the sum from 1 to N. If any number if divisible by 5, then skip that number. And if the sum is greater than 300, don't need to calculate the sum further more. Print the final result. And don't use for loop to solve this problem.\n",
        "\n",
        "**Example 1:**\n",
        "\n",
        "`Input:`\n",
        "\n",
        "```bash\n",
        "30\n",
        "```\n",
        "\n",
        "`Output:`\n",
        "\n",
        "```bash\n",
        "276\n",
        "```"
      ],
      "metadata": {
        "id": "-t8PJQaY3sHf"
      }
    },
    {
      "cell_type": "code",
      "source": [
        "# Write code here\n",
        "num = int(input('Enter the number: '))\n",
        "x = 0\n",
        "result = 0\n",
        "\n",
        "while x <= num:\n",
        "  x += 1\n",
        "  if x%5 == 0:\n",
        "    continue\n",
        "  elif result + x > 300:\n",
        "    break\n",
        "  else:\n",
        "    result = result + x\n",
        "\n",
        "print(result)"
      ],
      "metadata": {
        "id": "GZB6mGMP3ujT",
        "colab": {
          "base_uri": "https://localhost:8080/"
        },
        "outputId": "810f1c38-4b8d-4016-90f4-1e3c21660612"
      },
      "execution_count": 11,
      "outputs": [
        {
          "output_type": "stream",
          "name": "stdout",
          "text": [
            "Enter the number: 30\n",
            "276\n"
          ]
        }
      ]
    },
    {
      "cell_type": "markdown",
      "source": [
        "### `Problem 9`: Write a program that keeps on accepting a number from the user until the user enters Zero. Display the sum and average of all the numbers."
      ],
      "metadata": {
        "id": "Q7ggImeA3xm4"
      }
    },
    {
      "cell_type": "code",
      "source": [
        "# Write code here\n",
        "import math\n",
        "sum_num = 0\n",
        "count = 1\n",
        "\n",
        "while True:\n",
        "  user = int(input('Enter a number: '))\n",
        "  if user != 0:\n",
        "    sum_num += user\n",
        "    count += 1\n",
        "  else:\n",
        "    break\n",
        "\n",
        "print('Sum of all num: ',sum_num)\n",
        "print('Average of all num: ',math.ceil(sum_num/count))"
      ],
      "metadata": {
        "id": "t_YDSZDe4Kdo",
        "colab": {
          "base_uri": "https://localhost:8080/"
        },
        "outputId": "9acdf98a-ec8b-400b-8384-f62fd50530f1"
      },
      "execution_count": null,
      "outputs": [
        {
          "output_type": "stream",
          "name": "stdout",
          "text": [
            "Enter a number: 1\n",
            "Enter a number: 2\n",
            "Enter a number: 3\n",
            "Enter a number: 4\n",
            "Enter a number: 5\n",
            "Enter a number: 0\n",
            "Sum of all num:  15\n",
            "Average of all num:  3\n"
          ]
        }
      ]
    },
    {
      "cell_type": "markdown",
      "source": [
        "###`Problem 9`: Write a program which will find all such numbers which are divisible by 7 but are not a multiple of 5, between 2000 and 3200 (both included). The numbers obtained should be printed in a comma-separated sequence on a single line."
      ],
      "metadata": {
        "id": "6EhvEMvm4R7s"
      }
    },
    {
      "cell_type": "code",
      "source": [
        "# Write code here\n",
        "for i in range(2000,3201):\n",
        "  if i%7 == 0 and i%5 != 0:\n",
        "    print(i,end=',')"
      ],
      "metadata": {
        "id": "d6RgP1B34T6c",
        "colab": {
          "base_uri": "https://localhost:8080/"
        },
        "outputId": "afeee37e-e08e-411b-957d-c1ce6adea9e3"
      },
      "execution_count": null,
      "outputs": [
        {
          "output_type": "stream",
          "name": "stdout",
          "text": [
            "2002,2009,2016,2023,2037,2044,2051,2058,2072,2079,2086,2093,2107,2114,2121,2128,2142,2149,2156,2163,2177,2184,2191,2198,2212,2219,2226,2233,2247,2254,2261,2268,2282,2289,2296,2303,2317,2324,2331,2338,2352,2359,2366,2373,2387,2394,2401,2408,2422,2429,2436,2443,2457,2464,2471,2478,2492,2499,2506,2513,2527,2534,2541,2548,2562,2569,2576,2583,2597,2604,2611,2618,2632,2639,2646,2653,2667,2674,2681,2688,2702,2709,2716,2723,2737,2744,2751,2758,2772,2779,2786,2793,2807,2814,2821,2828,2842,2849,2856,2863,2877,2884,2891,2898,2912,2919,2926,2933,2947,2954,2961,2968,2982,2989,2996,3003,3017,3024,3031,3038,3052,3059,3066,3073,3087,3094,3101,3108,3122,3129,3136,3143,3157,3164,3171,3178,3192,3199,"
          ]
        }
      ]
    },
    {
      "cell_type": "markdown",
      "source": [
        "###`Problem 10`: Write a program, which will find all such numbers between 1000 and 3000 (both included) such that each digit of the number is an even number. The numbers obtained should be printed in a space-separated sequence on a single line.\n",
        "\n"
      ],
      "metadata": {
        "id": "tYvmRR-G4Vp4"
      }
    },
    {
      "cell_type": "code",
      "source": [
        "# Write code here\n",
        "for i in range(1000,3001):\n",
        "  temp = i\n",
        "  last = 0\n",
        "  while temp != 0:\n",
        "    last = temp % 10\n",
        "    if last%2 != 0:\n",
        "      break\n",
        "    else:\n",
        "      temp = temp // 10\n",
        "  else:\n",
        "    print(i,end=' ')"
      ],
      "metadata": {
        "id": "k6Gs1kIf4k19",
        "colab": {
          "base_uri": "https://localhost:8080/"
        },
        "outputId": "4519a06b-5df6-4344-8b2c-10e9155a3b9c"
      },
      "execution_count": 13,
      "outputs": [
        {
          "output_type": "stream",
          "name": "stdout",
          "text": [
            "2000 2002 2004 2006 2008 2020 2022 2024 2026 2028 2040 2042 2044 2046 2048 2060 2062 2064 2066 2068 2080 2082 2084 2086 2088 2200 2202 2204 2206 2208 2220 2222 2224 2226 2228 2240 2242 2244 2246 2248 2260 2262 2264 2266 2268 2280 2282 2284 2286 2288 2400 2402 2404 2406 2408 2420 2422 2424 2426 2428 2440 2442 2444 2446 2448 2460 2462 2464 2466 2468 2480 2482 2484 2486 2488 2600 2602 2604 2606 2608 2620 2622 2624 2626 2628 2640 2642 2644 2646 2648 2660 2662 2664 2666 2668 2680 2682 2684 2686 2688 2800 2802 2804 2806 2808 2820 2822 2824 2826 2828 2840 2842 2844 2846 2848 2860 2862 2864 2866 2868 2880 2882 2884 2886 2888 "
          ]
        }
      ]
    },
    {
      "cell_type": "markdown",
      "source": [
        "###`Problem 11`: A robot moves in a plane starting from the original point (0,0). The robot can move toward UP, DOWN, LEFT and RIGHT with a given steps.\n",
        "The trace of robot movement is shown as the following:\n",
        "```\n",
        "UP 5\n",
        "DOWN 3\n",
        "LEFT 3\n",
        "RIGHT 2\n",
        "!\n",
        "```\n",
        "> The numbers after the direction are steps.\n",
        "\n",
        "> `!` means robot stop there.\n",
        "\n",
        "**Please write a program to compute the distance from current position after a sequence of movement and original point.**\n",
        "\n",
        "*If the distance is a float, then just print the nearest integer.*\n",
        "\n",
        "Example:\n",
        "\n",
        "`Input`:\n",
        "```\n",
        "UP 5\n",
        "DOWN 3\n",
        "LEFT 3\n",
        "RIGHT 2\n",
        "!\n",
        "```\n",
        "`Output`:\n",
        "```\n",
        "2\n",
        "```"
      ],
      "metadata": {
        "id": "GV18IINT4mf5"
      }
    },
    {
      "cell_type": "code",
      "source": [
        "# Write code here\n",
        "start = [0,0]\n",
        "origin = [0,0]\n",
        "\n",
        "while True:\n",
        "  user = input('Enter the direction and distance: ')\n",
        "\n",
        "  if user != '!':\n",
        "    direction = user.split()[0]\n",
        "    distance = int(user.split()[1])\n",
        "\n",
        "    if direction == 'UP':\n",
        "      start[0] = start[0] + distance\n",
        "    elif direction == 'DOWN':\n",
        "      start[0] = start[0] - distance\n",
        "    elif direction == 'RIGHT':\n",
        "      start[1] = start[1] + distance\n",
        "    elif direction == 'LEFT':\n",
        "      start[1] = start[1] - distance\n",
        "    else:\n",
        "      print('Wrong Direction')\n",
        "  else:\n",
        "    break\n",
        "\n",
        "distance_from_origin = ((start[0] - origin[0])**2 + (start[1] - origin[1])**2)**0.5\n",
        "\n",
        "print('Total Distance: ',round(distance_from_origin))"
      ],
      "metadata": {
        "id": "6UNMC2aR4w5x",
        "colab": {
          "base_uri": "https://localhost:8080/"
        },
        "outputId": "02d0c2ea-5961-47d1-a28f-d32eb815eae0"
      },
      "execution_count": null,
      "outputs": [
        {
          "output_type": "stream",
          "name": "stdout",
          "text": [
            "Enter the direction and distance: UP 5\n",
            "Enter the direction and distance: DOWN 3\n",
            "Enter the direction and distance: LEFT 3\n",
            "Enter the direction and distance: RIGHT 2\n",
            "Enter the direction and distance: !\n",
            "Total Distance:  2\n"
          ]
        }
      ]
    },
    {
      "cell_type": "markdown",
      "source": [
        "###`Problem 12`:Write a program to print whether a given number is a prime number or not"
      ],
      "metadata": {
        "id": "3fsAIAhK5GYY"
      }
    },
    {
      "cell_type": "code",
      "source": [
        "# Write code here\n",
        "num = int(input('Enter a number: '))\n",
        "flag = True\n",
        "\n",
        "for i in range(2,num):\n",
        "  if num%i == 0:\n",
        "    flag = False\n",
        "    break\n",
        "\n",
        "if flag:\n",
        "  print('Prime Number')\n",
        "else:\n",
        "  print('Not a Prime Number')"
      ],
      "metadata": {
        "id": "j6y91lxy5LZs",
        "colab": {
          "base_uri": "https://localhost:8080/"
        },
        "outputId": "74ea4e81-e211-48c6-e868-63b9a81ed1ad"
      },
      "execution_count": null,
      "outputs": [
        {
          "output_type": "stream",
          "name": "stdout",
          "text": [
            "Enter a number: 17\n",
            "Prime Number\n"
          ]
        }
      ]
    },
    {
      "cell_type": "markdown",
      "source": [
        "###`Problem 13`:Print all the Armstrong numbers in a given range.\n",
        "Range will be provided by the user<br>\n",
        "Armstrong number is a number that is equal to the sum of cubes of its digits. For example 0, 1, 153, 370, 371 and 407 are the Armstrong numbers."
      ],
      "metadata": {
        "id": "asAbmbK-5NHv"
      }
    },
    {
      "cell_type": "code",
      "source": [
        "# Write code here\n",
        "lower = int(input('Enter lower range: '))\n",
        "upper = int(input('Enter upper range: '))\n",
        "\n",
        "\n",
        "for i in range(lower,upper+1):\n",
        "  num = i\n",
        "  result = 0\n",
        "\n",
        "  while num != 0:\n",
        "    temp = num % 10\n",
        "    result = result + (temp)**3\n",
        "    num = num // 10\n",
        "\n",
        "  if result == i:\n",
        "    print(result,end = ' ')\n",
        "  else:\n",
        "    continue"
      ],
      "metadata": {
        "id": "PZuI67pm5jCT",
        "colab": {
          "base_uri": "https://localhost:8080/"
        },
        "outputId": "674fb58a-c022-4b4e-fce0-837c063bf254"
      },
      "execution_count": null,
      "outputs": [
        {
          "output_type": "stream",
          "name": "stdout",
          "text": [
            "Enter lower range: 0\n",
            "Enter upper range: 500\n",
            "0 1 153 370 371 407 "
          ]
        }
      ]
    },
    {
      "cell_type": "markdown",
      "source": [
        "###`Problem 14`:Calculate the angle between the hour hand and minute hand.\n",
        "\n",
        "Note: There can be two angles between hands; we need to print a minimum of two. Also, we need to print the floor of the final result angle. For example, if the final angle is 10.61, we need to print 10.\n",
        "\n",
        "Input:<br>\n",
        "H = 9 , M = 0<br>\n",
        "Output:<br>\n",
        "90<br>\n",
        "Explanation:<br>\n",
        "The minimum angle between hour and minute\n",
        "hand when the time is 9 is 90 degress."
      ],
      "metadata": {
        "id": "ClCQZMqT7gK0"
      }
    },
    {
      "cell_type": "code",
      "source": [
        "# Write code here\n",
        "hour = int(input('Enter the hour: '))\n",
        "min = int(input('Enter the minute: '))\n",
        "\n",
        "if hour < 0 or min < 0 or hour > 12 or min > 60:\n",
        "  print('Invaild Time')\n",
        "\n",
        "m_angle = min * 6\n",
        "h_angle = hour * 30 + min * 0.5\n",
        "\n",
        "angle = abs(h_angle - m_angle)\n",
        "\n",
        "if angle > 180:\n",
        "  print(360 - angle)\n",
        "else:\n",
        "  print(angle)\n"
      ],
      "metadata": {
        "id": "tNBTCZML7jy_",
        "colab": {
          "base_uri": "https://localhost:8080/"
        },
        "outputId": "e8aee79e-c198-4740-e385-f8e7291d9e1e"
      },
      "execution_count": 5,
      "outputs": [
        {
          "output_type": "stream",
          "name": "stdout",
          "text": [
            "Enter the hour: 6\n",
            "Enter the minute: 0\n",
            "180.0\n"
          ]
        }
      ]
    },
    {
      "cell_type": "markdown",
      "source": [
        "###`Problem 15`:Given two rectangles, find if the given two rectangles overlap or not. A rectangle is denoted by providing the x and y coordinates of two points: the left top corner and the right bottom corner of the rectangle. Two rectangles sharing a side are considered overlapping. (L1 and R1 are the extreme points of the first rectangle and L2 and R2 are the extreme points of the second rectangle).\n",
        "\n",
        "Note: It may be assumed that the rectangles are parallel to the coordinate axis.\n",
        "\n",
        "<img src='https://www.geeksforgeeks.org/wp-content/uploads/rectanglesOverlap.png' width='300' height='200'>"
      ],
      "metadata": {
        "id": "GwacF9Co72Qc"
      }
    },
    {
      "cell_type": "code",
      "source": [
        "# Write code here\n",
        "x1 = int(input(\"Enter x-coordinate of top-left corner of rectangle 1: \"))\n",
        "y1 = int(input(\"Enter y-coordinate of top-left corner of rectangle 1: \"))\n",
        "x2 = int(input(\"Enter x-coordinate of bottom-right corner of rectangle 1: \"))\n",
        "y2 = int(input(\"Enter y-coordinate of bottom-right corner of rectangle 1: \"))\n",
        "\n",
        "# Get coordinates for the second rectangle\n",
        "x3 = int(input(\"Enter x-coordinate of top-left corner of rectangle 2: \"))\n",
        "y3 = int(input(\"Enter y-coordinate of top-left corner of rectangle 2: \"))\n",
        "x4 = int(input(\"Enter x-coordinate of bottom-right corner of rectangle 2: \"))\n",
        "y4 = int(input(\"Enter y-coordinate of bottom-right corner of rectangle 2: \"))\n",
        "\n",
        "# Check for overlap\n",
        "if (x1 > x4 or x3 > x2) or (y1 < y4 or y3 < y2):\n",
        "    print(\"The rectangles do not overlap.\")\n",
        "else:\n",
        "    print(\"The rectangles overlap.\")"
      ],
      "metadata": {
        "id": "6rrw_lpH78Rs",
        "colab": {
          "base_uri": "https://localhost:8080/"
        },
        "outputId": "a10b205e-677e-4634-b8b9-589480589b82"
      },
      "execution_count": 14,
      "outputs": [
        {
          "output_type": "stream",
          "name": "stdout",
          "text": [
            "Enter x-coordinate of top-left corner of rectangle 1: 5\n",
            "Enter y-coordinate of top-left corner of rectangle 1: 8\n",
            "Enter x-coordinate of bottom-right corner of rectangle 1: 3\n",
            "Enter y-coordinate of bottom-right corner of rectangle 1: 5\n",
            "Enter x-coordinate of top-left corner of rectangle 2: 2\n",
            "Enter y-coordinate of top-left corner of rectangle 2: 8\n",
            "Enter x-coordinate of bottom-right corner of rectangle 2: 3\n",
            "Enter y-coordinate of bottom-right corner of rectangle 2: 6\n",
            "The rectangles do not overlap.\n"
          ]
        }
      ]
    }
  ]
}