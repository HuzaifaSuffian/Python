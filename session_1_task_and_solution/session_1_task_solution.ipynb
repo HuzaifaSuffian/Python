{
 "cells": [
  {
   "cell_type": "markdown",
   "metadata": {
    "id": "A05OG15VqOPF"
   },
   "source": [
    "# Task : Session 1\n",
    "Solve these questions own your own and try to test yourself what you have learned in the session.\n",
    "\n",
    "Happy Learning!"
   ]
  },
  {
   "cell_type": "markdown",
   "metadata": {
    "id": "2doIXf8bqe9_"
   },
   "source": [
    "### Q1 :- Print the given strings as per stated format.\n",
    "\n",
    "**Given strings**:\n",
    "```\n",
    "\"Data\" \"Science\" \"Mentorship\" \"Program\"\n",
    "\"By\" \"CampusX\"\n",
    "```\n",
    "**Output**:\n",
    "```\n",
    "Data-Science-Mentorship-Program-started-By-CampusX\n",
    "```\n",
    "\n",
    "Concept- [Seperator and End]"
   ]
  },
  {
   "cell_type": "code",
   "execution_count": 1,
   "metadata": {
    "id": "-em6d3KErDtp"
   },
   "outputs": [
    {
     "name": "stdout",
     "output_type": "stream",
     "text": [
      "Data-Science-Mentorship-Program-By-CampusX"
     ]
    }
   ],
   "source": [
    "# Write your code here\n",
    "print(\"Data\", \"Science\", \"Mentorship\", \"Program\",\n",
    "\"By\", \"CampusX\",sep='-',end='')"
   ]
  },
  {
   "cell_type": "markdown",
   "metadata": {
    "id": "1KUpN7ZTrC3_"
   },
   "source": [
    "### Q2:- Write a program that will convert celsius value to fahrenheit."
   ]
  },
  {
   "cell_type": "code",
   "execution_count": 2,
   "metadata": {
    "id": "yxKYhYQiqWfj"
   },
   "outputs": [
    {
     "name": "stdout",
     "output_type": "stream",
     "text": [
      "Enter celsius value:  32\n"
     ]
    },
    {
     "name": "stdout",
     "output_type": "stream",
     "text": [
      "89.6  fehrenheit\n"
     ]
    }
   ],
   "source": [
    "# Write your code here\n",
    "cel = float(input('Enter celsius value: '))  # taking the value of celsius from user and converting it into integer.\n",
    "\n",
    "feh = (cel * 1.8) + 32  # Formula of celsius to fahrenheit\n",
    "\n",
    "print(feh,' fehrenheit')  # finally printing the converted value."
   ]
  },
  {
   "cell_type": "markdown",
   "metadata": {
    "id": "RLrOBBJurLB2"
   },
   "source": [
    "### Q3:- Take 2 numbers as input from the user.Write a program to swap the numbers without using any special python syntax."
   ]
  },
  {
   "cell_type": "code",
   "execution_count": 3,
   "metadata": {
    "id": "yPn7if0TrJ4F"
   },
   "outputs": [
    {
     "name": "stdout",
     "output_type": "stream",
     "text": [
      "Enter the first value:  2\n",
      "Enter the second value:  3\n"
     ]
    },
    {
     "name": "stdout",
     "output_type": "stream",
     "text": [
      "2 3\n",
      "3 2\n"
     ]
    }
   ],
   "source": [
    "# Write your code here\n",
    "first_num = int(input('Enter the first value: '))  # Taking the first value\n",
    "second_num = int(input('Enter the second value: '))  # Taking the second value\n",
    "\n",
    "print(first_num, second_num)   # Before swaping\n",
    "\n",
    "# Swaping the values using temporary varibale.\n",
    "temp = first_num\n",
    "first_num = second_num\n",
    "second_num = temp\n",
    "\n",
    "print(first_num,second_num)  # After swaping"
   ]
  },
  {
   "cell_type": "markdown",
   "metadata": {
    "id": "waLCP1bjr7ML"
   },
   "source": [
    "### Q4:- Write a program to find the euclidean distance between two coordinates.Take both the coordinates from the user as input."
   ]
  },
  {
   "cell_type": "code",
   "execution_count": 5,
   "metadata": {
    "id": "Pl1Sv-xnrxnH"
   },
   "outputs": [
    {
     "name": "stdout",
     "output_type": "stream",
     "text": [
      "Enter x1 point:  2\n",
      "Enter y1 point:  5\n",
      "Enter x2 point:  6\n",
      "Enter y2 point:  7\n"
     ]
    },
    {
     "name": "stdout",
     "output_type": "stream",
     "text": [
      "The euclidean distance between two point is:  4.47213595499958\n"
     ]
    }
   ],
   "source": [
    "# Write your code here\n",
    "coord_x1 = int(input('Enter x1 point: '))\n",
    "coord_y1 = int(input('Enter y1 point: '))\n",
    "\n",
    "coord_x2 = int(input('Enter x2 point: '))\n",
    "coord_y2 = int(input('Enter y2 point: '))\n",
    "\n",
    "euc_distance = ((coord_x2 - coord_x1)**2 + (coord_y2 - coord_y1)**2)**0.5\n",
    "\n",
    "print('The euclidean distance between two point is: ',euc_distance)"
   ]
  },
  {
   "cell_type": "markdown",
   "metadata": {
    "id": "VLrhg-FRsHjR"
   },
   "source": [
    "### Q5:- Write a program to find the simple interest when the value of principle,rate of interest and time period is provided by the user.\n"
   ]
  },
  {
   "cell_type": "code",
   "execution_count": 6,
   "metadata": {
    "id": "s40DlReZsTmY"
   },
   "outputs": [
    {
     "name": "stdout",
     "output_type": "stream",
     "text": [
      "Enter principle amount:  100000\n",
      "Enter rate of interest:  5\n",
      "Enter time period:  5\n"
     ]
    },
    {
     "name": "stdout",
     "output_type": "stream",
     "text": [
      "The simple interest on money is:  25000.0\n"
     ]
    }
   ],
   "source": [
    "# Write your code here\n",
    "principle = int(input('Enter principle amount: '))\n",
    "rate_of_interest = int(input('Enter rate of interest: '))\n",
    "time_period = int(input('Enter time period: '))\n",
    "\n",
    "simple_interest = (principle * rate_of_interest * time_period)/100  # simple interest formula si = (p * r * t) / 100\n",
    "\n",
    "print('The simple interest on money is: ',simple_interest)"
   ]
  },
  {
   "cell_type": "markdown",
   "metadata": {
    "id": "LMy0BTUktYKa"
   },
   "source": [
    "### Q6:- Write a program that will tell the number of dogs and chicken are there when the user will provide the value of total heads and legs.\n",
    "\n",
    "For example:\n",
    "Input:\n",
    "heads -> 4\n",
    "legs -> 12\n",
    "<br>\n",
    "Output:\n",
    "dogs -> 2\n",
    "chicken -> 2\n",
    "\n",
    "\n",
    "\n"
   ]
  },
  {
   "cell_type": "code",
   "execution_count": null,
   "metadata": {
    "id": "XSBvJoA4tXaG"
   },
   "outputs": [],
   "source": [
    "# Write your code here\n",
    "# head = int(input('Enter number of heads: '))\n",
    "# legs = int(input('Enter number of legs: '))\n",
    "\n",
    "# chicken_head = head - (legs/2)\n",
    "# dog_head = head - chicken_head\n",
    "# legs = "
   ]
  },
  {
   "cell_type": "markdown",
   "metadata": {
    "id": "gJ7C5kZYt4BP"
   },
   "source": [
    "### Q7:- Write a program to find the sum of squares of first n natural numbers where n will be provided by the user."
   ]
  },
  {
   "cell_type": "code",
   "execution_count": 7,
   "metadata": {
    "id": "_tHsmEHzt2nX"
   },
   "outputs": [
    {
     "name": "stdout",
     "output_type": "stream",
     "text": [
      "Enter nth term:  5\n"
     ]
    },
    {
     "name": "stdout",
     "output_type": "stream",
     "text": [
      "The sum of square of first n natural numbers is:  55.0\n"
     ]
    }
   ],
   "source": [
    "# Write your code here\n",
    "n = int(input('Enter nth term: '))\n",
    "\n",
    "formula = (n*(n + 1)*(2*n+1))/6     # formula of sum of square of first n natural numbers\n",
    "\n",
    "print('The sum of square of first n natural numbers is: ',formula)"
   ]
  },
  {
   "cell_type": "markdown",
   "metadata": {
    "id": "FHrMM7g-yG1h"
   },
   "source": [
    "### Q8:- Given the first 2 terms of an Arithmetic Series.Find the Nth term of the series. Assume all inputs are provided by the user."
   ]
  },
  {
   "cell_type": "code",
   "execution_count": 1,
   "metadata": {
    "id": "go4_kmZmyVSx"
   },
   "outputs": [
    {
     "name": "stdout",
     "output_type": "stream",
     "text": [
      "Enter first num:  3\n",
      "Enter second num:  6\n",
      "Enter number of terms:  5\n"
     ]
    },
    {
     "name": "stdout",
     "output_type": "stream",
     "text": [
      "Arithmetic series : 15\n"
     ]
    }
   ],
   "source": [
    "# Write your code here\n",
    "first_num = int(input('Enter first num: '))\n",
    "second_num = int(input('Enter second num: '))\n",
    "n = int(input('Enter number of terms: '))\n",
    "\n",
    "difference = second_num - first_num\n",
    "\n",
    "arithemic_series = first_num + (n - 1) * difference\n",
    "\n",
    "print('Arithmetic series :',arithemic_series)"
   ]
  },
  {
   "cell_type": "markdown",
   "metadata": {
    "id": "QgyRX_es1oum"
   },
   "source": [
    "### Q9:- Given 2 fractions, find the sum of those 2 fractions.Take the numerator and denominator values of the fractions from the user."
   ]
  },
  {
   "cell_type": "code",
   "execution_count": 3,
   "metadata": {
    "id": "X05xqFS1yW16"
   },
   "outputs": [
    {
     "name": "stdout",
     "output_type": "stream",
     "text": [
      "Enter first  numerator:  3\n",
      "Enter first denominator:  7\n",
      "Enter second  numerator:  2\n",
      "Enter second denominator:  11\n"
     ]
    },
    {
     "name": "stdout",
     "output_type": "stream",
     "text": [
      "47/77\n"
     ]
    }
   ],
   "source": [
    "# Write your code here\n",
    "num_first = int(input('Enter first  numerator: '))\n",
    "den_first = int(input('Enter first denominator: '))\n",
    "\n",
    "num_second = int(input('Enter second  numerator: '))\n",
    "den_second = int(input('Enter second denominator: '))\n",
    "\n",
    "numerator = (num_first * den_second) + (num_second * den_first) \n",
    "denomenator = (den_first * den_second)\n",
    "\n",
    "print('{}/{}'.format(numerator,denomenator))"
   ]
  },
  {
   "cell_type": "markdown",
   "metadata": {
    "id": "eaql38ln13u7"
   },
   "source": [
    "### Q10:- Given the height, width and breadth of a milk tank, you have to find out how many glasses of milk can be obtained? Assume all the inputs are provided by the user.\n",
    "\n",
    "\n",
    "\n",
    "Input:<br>\n",
    "Dimensions of the milk tank<br>\n",
    "H = 20cm, L = 20cm, B = 20cm\n",
    "<br><br>\n",
    "Dimensions of the glass<br>\n",
    "h = 3cm, r = 1cm"
   ]
  },
  {
   "cell_type": "code",
   "execution_count": 6,
   "metadata": {
    "id": "FePZqno74eWv"
   },
   "outputs": [
    {
     "name": "stdout",
     "output_type": "stream",
     "text": [
      "Enter the height of tank:  10\n",
      "Enter the length of tank:  10\n",
      "Enter the breadth of tank:  19\n",
      "Enter the radius of glass:  2\n",
      "Enter the height of glass:  5\n"
     ]
    },
    {
     "name": "stdout",
     "output_type": "stream",
     "text": [
      "No of glasses we get:  30\n"
     ]
    }
   ],
   "source": [
    "# Write your code here\n",
    "import math\n",
    "\n",
    "height_tank = int(input('Enter the height of tank: '))\n",
    "length_tank = int(input('Enter the length of tank: '))\n",
    "breadth_tank = int(input('Enter the breadth of tank: '))\n",
    "\n",
    "radius_glass = int(input('Enter the radius of glass: '))\n",
    "height_glass = int(input('Enter the height of glass: '))\n",
    "\n",
    "vol_tank = height_tank *  breadth_tank * length_tank \n",
    "vol_glass = 3.14 * radius_glass*radius_glass * height_glass\n",
    "\n",
    "print('No of glasses we get: ',math.floor(vol_tank/vol_glass))"
   ]
  }
 ],
 "metadata": {
  "colab": {
   "provenance": []
  },
  "kernelspec": {
   "display_name": "Python 3 (ipykernel)",
   "language": "python",
   "name": "python3"
  },
  "language_info": {
   "codemirror_mode": {
    "name": "ipython",
    "version": 3
   },
   "file_extension": ".py",
   "mimetype": "text/x-python",
   "name": "python",
   "nbconvert_exporter": "python",
   "pygments_lexer": "ipython3",
   "version": "3.12.0"
  }
 },
 "nbformat": 4,
 "nbformat_minor": 4
}
