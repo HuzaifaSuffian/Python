{
  "nbformat": 4,
  "nbformat_minor": 0,
  "metadata": {
    "colab": {
      "provenance": []
    },
    "kernelspec": {
      "name": "python3",
      "display_name": "Python 3"
    },
    "language_info": {
      "name": "python"
    }
  },
  "cells": [
    {
      "cell_type": "markdown",
      "source": [
        "### **`Problem-1:`** Write a Python function that takes a list and returns a new list with unique elements of the first list.\n",
        "\n",
        "**Exercise 1:**\n",
        "\n",
        "Input:\n",
        "\n",
        "```bash\n",
        "[1,2,3,3,3,3,4,5]\n",
        "```\n",
        "\n",
        "Output:\n",
        "\n",
        "```bash\n",
        "[1, 2, 3, 4, 5]\n",
        "```"
      ],
      "metadata": {
        "id": "h6dDSW5XGZFi"
      }
    },
    {
      "cell_type": "code",
      "source": [
        "def unique(l):\n",
        "  new = []\n",
        "  for i in l:\n",
        "    if i not in new:\n",
        "      new.append(i)\n",
        "  return new\n",
        "\n",
        "l = [1,2,3,3,3,3,4,5]\n",
        "unique(l)"
      ],
      "metadata": {
        "id": "R5pq1C9LGe1y",
        "colab": {
          "base_uri": "https://localhost:8080/"
        },
        "outputId": "882651bc-f8d4-4453-e321-281d444e0194"
      },
      "execution_count": null,
      "outputs": [
        {
          "output_type": "execute_result",
          "data": {
            "text/plain": [
              "[1, 2, 3, 4, 5]"
            ]
          },
          "metadata": {},
          "execution_count": 1
        }
      ]
    },
    {
      "cell_type": "markdown",
      "source": [
        "### **`Problem-2:`** Write a Python function that accepts a hyphen-separated sequence of words as parameter and returns the words in a hyphen-separated sequence after sorting them alphabetically.\n",
        "\n",
        "**Example 1:**\n",
        "\n",
        "Input:\n",
        "```bash\n",
        "green-red-yellow-black-white\n",
        "```\n",
        "\n",
        "Output:\n",
        "```bash\n",
        "black-green-red-white-yellow\n",
        "```"
      ],
      "metadata": {
        "id": "UxQ_VoyJGwHj"
      }
    },
    {
      "cell_type": "code",
      "source": [
        "# Write code here\n",
        "def rearrange(st):\n",
        "  sp = sorted(st.split('-'))\n",
        "  return '-'.join(sp)\n",
        "\n",
        "st = 'green-red-yellow-black-white'\n",
        "rearrange(st)"
      ],
      "metadata": {
        "id": "AAts2m5zGwiQ",
        "colab": {
          "base_uri": "https://localhost:8080/",
          "height": 36
        },
        "outputId": "52dde8f5-54ea-4ff4-ca3c-58dfdec9e11d"
      },
      "execution_count": null,
      "outputs": [
        {
          "output_type": "execute_result",
          "data": {
            "text/plain": [
              "'black-green-red-white-yellow'"
            ],
            "application/vnd.google.colaboratory.intrinsic+json": {
              "type": "string"
            }
          },
          "metadata": {},
          "execution_count": 2
        }
      ]
    },
    {
      "cell_type": "markdown",
      "source": [
        "### **`Problem 3:`** Write a Python function that accepts a string and calculate the number of upper case letters and lower case letters.\n",
        "\n",
        "```\n",
        "Sample String : 'CampusX is an Online Mentorship Program fOr EnginEering studentS.'\n",
        "Expected Output :\n",
        "No. of Upper case characters :  9\n",
        "No. of Lower case Characters :  47\n",
        "```"
      ],
      "metadata": {
        "id": "IRGH62S7Gx_n"
      }
    },
    {
      "cell_type": "code",
      "source": [
        "# Write code here\n",
        "def count(st):\n",
        "  upper = 0\n",
        "  lower = 0\n",
        "  for i in st:\n",
        "    if i.isupper():\n",
        "      upper += 1\n",
        "    elif i.islower():\n",
        "      lower += 1\n",
        "    else:\n",
        "      continue\n",
        "\n",
        "  return upper,lower\n",
        "\n",
        "st = 'CampusX is an Online Mentorship Program fOr EnginEering studentS.'\n",
        "upper,lower = count(st)\n",
        "\n",
        "print('No. of Upper case characters:',upper)\n",
        "print('No. of Lower case characters:',lower)"
      ],
      "metadata": {
        "id": "OaUrD8vVG5o8",
        "colab": {
          "base_uri": "https://localhost:8080/"
        },
        "outputId": "7ce58405-a88d-43f2-f295-43bca0f63391"
      },
      "execution_count": null,
      "outputs": [
        {
          "output_type": "stream",
          "name": "stdout",
          "text": [
            "No. of Upper case characters: 9\n",
            "No. of Lower case characters: 47\n"
          ]
        }
      ]
    },
    {
      "cell_type": "markdown",
      "source": [
        "### **`Problem 4:`** Write a Python program to print the even numbers from a given list.\n",
        "```\n",
        "Sample List : [1, 2, 3, 4, 5, 6, 7, 8, 9]\n",
        "Expected Result : [2, 4, 6, 8]\n",
        "```"
      ],
      "metadata": {
        "id": "V1BFFdYQG7Sn"
      }
    },
    {
      "cell_type": "code",
      "source": [
        "# Write code here\n",
        "l = [1, 2, 3, 4, 5, 6, 7, 8, 9]\n",
        "\n",
        "list(filter(lambda x: x%2 == 0,l))\n",
        "\n",
        "# Second Method\n",
        "def is_even(l):\n",
        "  new_l = []\n",
        "  for i in l:\n",
        "    if i%2 == 0:\n",
        "      new_l.append(i)\n",
        "\n",
        "  return new_l\n",
        "\n",
        "l = [1, 2, 3, 4, 5, 6, 7, 8, 9]\n",
        "print(is_even(l))"
      ],
      "metadata": {
        "id": "VvAReLoDG_Z3",
        "colab": {
          "base_uri": "https://localhost:8080/"
        },
        "outputId": "5bc1bcf6-5f36-4859-eca5-59123a99b4b6"
      },
      "execution_count": null,
      "outputs": [
        {
          "output_type": "stream",
          "name": "stdout",
          "text": [
            "[2, 4, 6, 8]\n"
          ]
        }
      ]
    },
    {
      "cell_type": "markdown",
      "source": [
        "### **`Problem 5:`** Write a Python function to check whether a number is perfect or not.\n",
        "\n",
        "A Perfect number is a number that is half the sum of all of its positive divisors (including itself).\n",
        "\n",
        "Example :\n",
        "\n",
        "```\n",
        "The first perfect number is 6, because 1, 2, and 3 are its proper positive divisors, and 1 + 2 + 3 = 6.\n",
        "Equivalently, the number 6 is equal to half the sum of all its positive divisors: ( 1 + 2 + 3 + 6 ) / 2 = 6.\n",
        "\n",
        "The next perfect number is 28 = 1 + 2 + 4 + 7 + 14. This is followed by the perfect numbers 496 and 8128.\n",
        "```\n"
      ],
      "metadata": {
        "id": "qrK39Gn-HHb4"
      }
    },
    {
      "cell_type": "code",
      "source": [
        "# Write code here\n",
        "def perfect_no(num):\n",
        "\n",
        "  result = 0\n",
        "\n",
        "  for i in range(1,(num//2)+1):\n",
        "    if num%i == 0:\n",
        "      result += i\n",
        "\n",
        "  if result == num:\n",
        "    print('perfect number')\n",
        "  else:\n",
        "    print('not perfect number')\n",
        "\n",
        "perfect_no(28)"
      ],
      "metadata": {
        "id": "P-OI7H78HICs",
        "colab": {
          "base_uri": "https://localhost:8080/"
        },
        "outputId": "2721ea17-30b3-460a-a542-2e0ce19e0ea2"
      },
      "execution_count": 5,
      "outputs": [
        {
          "output_type": "stream",
          "name": "stdout",
          "text": [
            "perfect number\n"
          ]
        }
      ]
    },
    {
      "cell_type": "markdown",
      "source": [
        "### **`Problem-6:`** Write a Python function to concatenate any no of dictionaries to create a new one.\n",
        "\n",
        "```\n",
        "Sample Dictionary :\n",
        "dic1={1:10, 2:20}\n",
        "dic2={3:30, 4:40}\n",
        "dic3={5:50,6:60}\n",
        "Expected Result : {1: 10, 2: 20, 3: 30, 4: 40, 5: 50, 6: 60}\n",
        "```"
      ],
      "metadata": {
        "id": "oZdpcG77HO-6"
      }
    },
    {
      "cell_type": "code",
      "source": [
        "# Write code here\n",
        "def concat(*args):\n",
        "  result = {}\n",
        "  for i in args:\n",
        "    result.update(i)\n",
        "\n",
        "  return result\n",
        "\n",
        "dic1={1:10, 2:20}\n",
        "dic2={3:30, 4:40}\n",
        "dic3={5:50,6:60}\n",
        "\n",
        "concat(dic1,dic2,dic3)"
      ],
      "metadata": {
        "id": "LQgfAY4ZHPhj",
        "colab": {
          "base_uri": "https://localhost:8080/"
        },
        "outputId": "f8edca7a-da2d-4164-f24a-2bfcfcab4f81"
      },
      "execution_count": null,
      "outputs": [
        {
          "output_type": "execute_result",
          "data": {
            "text/plain": [
              "{1: 10, 2: 20, 3: 30, 4: 40, 5: 50, 6: 60}"
            ]
          },
          "metadata": {},
          "execution_count": 7
        }
      ]
    },
    {
      "cell_type": "markdown",
      "source": [
        "`Problem-7` Write a python function that accepts a string as input and returns the word with most occurence.\n",
        "\n",
        "```\n",
        "Input:\n",
        "hello how are you i am fine thank you\n",
        "```\n",
        "\n",
        "```\n",
        "Output\n",
        "you -> 2\n",
        "```"
      ],
      "metadata": {
        "id": "jQ6SzbCkHRd0"
      }
    },
    {
      "cell_type": "code",
      "source": [
        "# Write code here\n",
        "def count_element(st,word):\n",
        "  return st.count(word)\n",
        "\n",
        "st = 'hello how are you i am fine thank you'\n",
        "word = 'you'\n",
        "\n",
        "print('{} -> {}'.format(word,count_element(st,word)))\n",
        "\n",
        "# Second Method\n",
        "def most_used(s):\n",
        "\n",
        "  d = {}\n",
        "\n",
        "  for i in s.split():\n",
        "    if i in d:\n",
        "      d[i] = d[i] + 1\n",
        "    else:\n",
        "      d[i] = 1\n",
        "\n",
        "  max_value = max(d.values())\n",
        "\n",
        "  for i in d:\n",
        "    if d[i] == max_value:\n",
        "      print(i,'->',d[i])\n",
        "      break\n",
        "\n",
        "most_used('hello hello hello you i am fine thank you')"
      ],
      "metadata": {
        "id": "Lh04JHLzIW7Z",
        "colab": {
          "base_uri": "https://localhost:8080/"
        },
        "outputId": "cc329436-a196-4eb8-f7b2-3bf336d5d568"
      },
      "execution_count": 6,
      "outputs": [
        {
          "output_type": "stream",
          "name": "stdout",
          "text": [
            "you -> 2\n",
            "hello -> 3\n"
          ]
        }
      ]
    },
    {
      "cell_type": "markdown",
      "source": [
        "`Problem-8` Write a python function that receives a list of integers and prints out a histogram of bin size 10\n",
        "\n",
        "```\n",
        "Input:\n",
        "[13,42,15,37,22,39,41,50]\n",
        "```\n",
        "\n",
        "```\n",
        "Output:\n",
        "{11-20:2,21-30:1,31-40:2,41-50:3}\n",
        "```"
      ],
      "metadata": {
        "id": "1r8SpVntI-IW"
      }
    },
    {
      "cell_type": "code",
      "source": [
        "# Write code here\n",
        "import math\n",
        "\n",
        "def histogram(l):\n",
        "  lower = math.floor(min(l) / 10) * 10\n",
        "  upper = math.ceil(max(l) / 10) * 10\n",
        "\n",
        "  d = {}\n",
        "\n",
        "  for i in range(lower,upper,10):\n",
        "    count = 0\n",
        "    for j in l:\n",
        "      if i+1 <= j <= i+10:\n",
        "        count += 1\n",
        "\n",
        "    d[str(i+1) + '-' + str(i+10)] = count\n",
        "\n",
        "  return d\n",
        "\n",
        "l = [13,42,15,37,22,39,41,50]\n",
        "histogram(l)"
      ],
      "metadata": {
        "id": "7W0J8rUjJovg",
        "colab": {
          "base_uri": "https://localhost:8080/"
        },
        "outputId": "540b7057-bb72-405d-adfa-767a5bf15fe4"
      },
      "execution_count": 9,
      "outputs": [
        {
          "output_type": "execute_result",
          "data": {
            "text/plain": [
              "{'11-20': 2, '21-30': 1, '31-40': 2, '41-50': 3}"
            ]
          },
          "metadata": {},
          "execution_count": 9
        }
      ]
    },
    {
      "cell_type": "markdown",
      "source": [
        "`Problem-9` Write a python function that accepts a list of 2D co-ordinates and a query point, and then finds the the co-ordinate which is closest in terms of distance from the query point.\n",
        "\n",
        "```\n",
        "List of Coordinates\n",
        "[(1,1),(2,2),(3,3),(4,4)]\n",
        "Query Point\n",
        "(0,0)\n",
        "```\n",
        "\n",
        "```\n",
        "Output\n",
        "Nearest to (0,0) is (1,1)\n",
        "```"
      ],
      "metadata": {
        "id": "1P2-rbgXKE53"
      }
    },
    {
      "cell_type": "code",
      "source": [
        "# Write code here\n",
        "def closest_coord(coord,point):\n",
        "  distances = []\n",
        "\n",
        "  for i,j in coord:\n",
        "    euc_dis = ((i - point[0])**2 + (j - point[1])**2)**0.5\n",
        "    distances.append(int(euc_dis))\n",
        "\n",
        "  index_pos = distances.index(min(distances))\n",
        "\n",
        "  return coord[index_pos]\n",
        "\n",
        "coords = [(1,4),(2,-2),(13,3),(14,4)]\n",
        "points = (0,0)\n",
        "closest = closest_coord(coords,points)\n",
        "print('Nearest to {} is {}'.format(points,closest))"
      ],
      "metadata": {
        "id": "zjn7vSTIJ81G",
        "colab": {
          "base_uri": "https://localhost:8080/"
        },
        "outputId": "c45edb85-de7c-4311-fdc1-5f2e7630d37a"
      },
      "execution_count": 10,
      "outputs": [
        {
          "output_type": "stream",
          "name": "stdout",
          "text": [
            "Nearest to (0, 0) is (2, -2)\n"
          ]
        }
      ]
    },
    {
      "cell_type": "markdown",
      "source": [
        "`Problem-10`:Write a python program that receives a list of strings and performs bag of word operation on those strings\n",
        "\n",
        "https://en.wikipedia.org/wiki/Bag-of-words_model"
      ],
      "metadata": {
        "id": "i-B6igmyK9hB"
      }
    },
    {
      "cell_type": "code",
      "source": [
        "# Write code here\n",
        "def bow(L):\n",
        "\n",
        "  vocab = set()\n",
        "\n",
        "  for i in L:\n",
        "    vocab.update(i.split())\n",
        "\n",
        "  result = []\n",
        "\n",
        "  for i in L:\n",
        "    result.append([])\n",
        "    for j in vocab:\n",
        "      result[-1].append(i.count(j))\n",
        "\n",
        "  print(vocab)\n",
        "  return result\n",
        "\n",
        "\n",
        "\n",
        "\n",
        "L = [\n",
        "    'cat mat rat cat',\n",
        "     'sat bat fat cat rat',\n",
        "     'pat cat mat rat'\n",
        "]\n",
        "\n",
        "bow(L)"
      ],
      "metadata": {
        "id": "N2l1_AWULT-z",
        "colab": {
          "base_uri": "https://localhost:8080/"
        },
        "outputId": "43bef439-52d9-4fa6-ae96-694e39648846"
      },
      "execution_count": 15,
      "outputs": [
        {
          "output_type": "stream",
          "name": "stdout",
          "text": [
            "{'mat', 'cat', 'sat', 'fat', 'rat', 'bat', 'pat'}\n"
          ]
        },
        {
          "output_type": "execute_result",
          "data": {
            "text/plain": [
              "[[1, 2, 0, 0, 1, 0, 0], [0, 1, 1, 1, 1, 1, 0], [1, 1, 0, 0, 1, 0, 1]]"
            ]
          },
          "metadata": {},
          "execution_count": 15
        }
      ]
    },
    {
      "cell_type": "markdown",
      "source": [
        "###`Problem 11:` Write a Python program to add three given lists using Python map and lambda."
      ],
      "metadata": {
        "id": "dHTRKb-DqMLw"
      }
    },
    {
      "cell_type": "code",
      "source": [
        "# Write code here\n",
        "l1 = [1,2,3,4,5]\n",
        "l2 = [6,7,8,9,10]\n",
        "l3 = [11,12,13,14,15]\n",
        "\n",
        "list(map(lambda x,y,z:x+y+z,l1,l2,l3))"
      ],
      "metadata": {
        "id": "NfJdzyNZqNW-"
      },
      "execution_count": null,
      "outputs": []
    },
    {
      "cell_type": "markdown",
      "source": [
        "###`Problem-12:`Write a Python program to create a list containing the power of said number in bases raised to the corresponding number in the index using Python map.\n",
        "`Input:`\n",
        "```\n",
        "list1 = [1,2,3,4,5,6]\n",
        "```\n",
        "`Output:`\n",
        "```\n",
        "[1,2,9,64,625,-]\n",
        "```\n"
      ],
      "metadata": {
        "id": "MgHP7mbUqO8l"
      }
    },
    {
      "cell_type": "code",
      "source": [
        "# Write code here\n",
        "list1 = [1,2,3,4,5,6]\n",
        "\n",
        "list(map(lambda x: x**list1.index(x),list1))"
      ],
      "metadata": {
        "id": "gG3Dc6N3qbvN",
        "colab": {
          "base_uri": "https://localhost:8080/"
        },
        "outputId": "70351e0c-e2ff-4ca6-918a-c5ac325e4564"
      },
      "execution_count": null,
      "outputs": [
        {
          "output_type": "execute_result",
          "data": {
            "text/plain": [
              "[1, 2, 9, 64, 625, 7776]"
            ]
          },
          "metadata": {},
          "execution_count": 25
        }
      ]
    },
    {
      "cell_type": "markdown",
      "source": [
        "###`Problem-13` Using filter() and list() functions and .lower() method filter all the vowels in a given string.\n",
        "\n"
      ],
      "metadata": {
        "id": "G26SYq6vqdLN"
      }
    },
    {
      "cell_type": "code",
      "source": [
        "# Write code here\n",
        "st = 'hELlo how Are you I am fiNe tHank you'\n",
        "\n",
        "list(filter(lambda x:x in 'aeiou',st.lower()))"
      ],
      "metadata": {
        "id": "zurga3DIqmEx",
        "colab": {
          "base_uri": "https://localhost:8080/"
        },
        "outputId": "3d5bb2ff-961d-4d9d-aabd-7d1fafc0d8bc"
      },
      "execution_count": null,
      "outputs": [
        {
          "output_type": "execute_result",
          "data": {
            "text/plain": [
              "['e', 'o', 'o', 'a', 'e', 'o', 'u', 'i', 'a', 'i', 'e', 'a', 'o', 'u']"
            ]
          },
          "metadata": {},
          "execution_count": 26
        }
      ]
    },
    {
      "cell_type": "markdown",
      "source": [
        "`Problem-14`: Use reduce to convert a 2D list to 1D"
      ],
      "metadata": {
        "id": "uQrsunZSqoYu"
      }
    },
    {
      "cell_type": "code",
      "source": [
        "# Write code here\n",
        "ini_list = [[1, 2, 3],\n",
        "            [3, 6, 7],\n",
        "            [7, 5, 4]]\n",
        "\n",
        "import functools\n",
        "functools.reduce(lambda x,y: x+y,ini_list)"
      ],
      "metadata": {
        "id": "E1YUwnfgqnka",
        "colab": {
          "base_uri": "https://localhost:8080/"
        },
        "outputId": "8fd48d36-c0a5-427e-b63b-be49b39a54f2"
      },
      "execution_count": 16,
      "outputs": [
        {
          "output_type": "execute_result",
          "data": {
            "text/plain": [
              "[1, 2, 3, 3, 6, 7, 7, 5, 4]"
            ]
          },
          "metadata": {},
          "execution_count": 16
        }
      ]
    },
    {
      "cell_type": "markdown",
      "source": [
        "`Problem 15`- A dictionary contains following information about 5 employees:\n",
        "- First name\n",
        "- Last name\n",
        "- Age\n",
        "- Grade(Skilled,Semi-skilled,Highly skilled)<br>\n",
        "Write a program using map/filter/reduce to a list of employees(first name + last name) who are highly skilled"
      ],
      "metadata": {
        "id": "8-DLQEawt-_t"
      }
    },
    {
      "cell_type": "code",
      "source": [
        "# Write code here\n",
        "employees = [\n",
        "    {\n",
        "        'fname':'Nitish',\n",
        "        'lname':'Singh',\n",
        "        'age' : 33,\n",
        "        'grade':'skilled'\n",
        "    },\n",
        "    {\n",
        "        'fname':'Ankit',\n",
        "        'lname':'Verma',\n",
        "        'age' : 34,\n",
        "        'grade':'semi-skilled'\n",
        "    },\n",
        "    {\n",
        "        'fname':'Neha',\n",
        "        'lname':'Singh',\n",
        "        'age' : 35,\n",
        "        'grade':'highly-skilled'\n",
        "    },\n",
        "    {\n",
        "        'fname':'Anurag',\n",
        "        'lname':'Kumar',\n",
        "        'age' : 30,\n",
        "        'grade':'skilled'\n",
        "    },\n",
        "    {\n",
        "        'fname':'Abhinav',\n",
        "        'lname':'Sharma',\n",
        "        'age' : 37,\n",
        "        'grade':'highly-skilled'\n",
        "    }\n",
        "\n",
        "]"
      ],
      "metadata": {
        "id": "OLvptttLs6OU"
      },
      "execution_count": null,
      "outputs": []
    },
    {
      "cell_type": "code",
      "source": [
        "list(map(lambda high_grad_emp:high_grad_emp['fname'] + ' ' + high_grad_emp['lname'], filter(lambda employee: employee['grade'] == 'highly-skilled',employees)))"
      ],
      "metadata": {
        "id": "vLX0FAQkui3y",
        "colab": {
          "base_uri": "https://localhost:8080/"
        },
        "outputId": "8678ebc3-ae5f-44c1-fa75-e15be9166c97"
      },
      "execution_count": null,
      "outputs": [
        {
          "output_type": "execute_result",
          "data": {
            "text/plain": [
              "['Neha Singh', 'Abhinav Sharma']"
            ]
          },
          "metadata": {},
          "execution_count": 29
        }
      ]
    }
  ]
}